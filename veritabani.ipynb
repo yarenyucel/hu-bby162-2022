{
  "nbformat": 4,
  "nbformat_minor": 0,
  "metadata": {
    "colab": {
      "name": "veritabani.ipynb",
      "provenance": [],
      "authorship_tag": "ABX9TyMlVLmYBLnbqZCpQsBbhnbN",
      "include_colab_link": true
    },
    "kernelspec": {
      "name": "python3",
      "display_name": "Python 3"
    },
    "language_info": {
      "name": "python"
    }
  },
  "cells": [
    {
      "cell_type": "markdown",
      "metadata": {
        "id": "view-in-github",
        "colab_type": "text"
      },
      "source": [
        "<a href=\"https://colab.research.google.com/github/yarenyucel/hu-bby162-2022/blob/main/veritabani.ipynb\" target=\"_parent\"><img src=\"https://colab.research.google.com/assets/colab-badge.svg\" alt=\"Open In Colab\"/></a>"
      ]
    },
    {
      "cell_type": "code",
      "execution_count": null,
      "metadata": {
        "id": "Sul6q1fXR5K5"
      },
      "outputs": [],
      "source": [
        "Aylak Adam&Yusuf Atılgan&Can Yayınları&1959\n",
        "Anayurt Oteli&Yusuf Atılgan&Can yayınları&1973\n",
        "Lüzumsuz Adam&Sait Faik Abasıyanık&Türkiye İş Bankası Kültür Yayınları&1948"
      ]
    }
  ]
}