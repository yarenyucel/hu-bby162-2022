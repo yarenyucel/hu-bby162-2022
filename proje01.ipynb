print("0-5 rakamları arasında bir rakama giriniz! (5 dahil)")

liste = ["tavşan", "marul", "leopar", "salam", "demir", "tahta"]
while True:
  try:
    secim = int(input("İndeks numarasını giriniz: "))     
  except ValueError:  
     print("Bir sayı gir!")
     continue
  else:
     print("Bir sayı girdiniz!")
     break   
listeToplam = len(liste)

if secim < listeToplam:
 print(liste[secim])
else:
  print("İndeks dışı giriş!")
