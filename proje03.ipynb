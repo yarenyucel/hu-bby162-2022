{
  "nbformat": 4,
  "nbformat_minor": 0,
  "metadata": {
    "colab": {
      "name": "proje03.ipynb",
      "provenance": [],
      "authorship_tag": "ABX9TyMkUAlkLziu7kFSsgHwt9he",
      "include_colab_link": true
    },
    "kernelspec": {
      "name": "python3",
      "display_name": "Python 3"
    },
    "language_info": {
      "name": "python"
    }
  },
  "cells": [
    {
      "cell_type": "markdown",
      "metadata": {
        "id": "view-in-github",
        "colab_type": "text"
      },
      "source": [
        "<a href=\"https://colab.research.google.com/github/yarenyucel/hu-bby162-2022/blob/main/proje03.ipynb\" target=\"_parent\"><img src=\"https://colab.research.google.com/assets/colab-badge.svg\" alt=\"Open In Colab\"/></a>"
      ]
    },
    {
      "cell_type": "code",
      "source": [
        "print(\"BİLGİ PROGRAMIMIZA HOŞ GELDİNİZ!\")\n",
        "\n",
        "print(\"Her bir soru bir puan değerindedir ve toplam 5 adet soru bulunmaktadır.\")\n",
        "print(\"Teste başlamak için enter tuşuna basınız.\")\n",
        "print(\"Lütfen büyük, küçük harf ile yazıma dikkat ediniz !\")\n",
        "\n",
        "sorular=[\"Bu programı kim sunuyor?\",\"Apple'ın kurucusu kimdir\",\"Türkiye Cumhuriyetinin ilk Cumhurbaşkanı kimdir?\",\"Yüzölçümü bakımından dünyanın en büyük ülkesi hangisidir?\",\"Mona Lisa tablosu kimin eseridir?\"]\n",
        "cevaplar=[\"Yaren Yücel\",\"Steve Jobs\",\"Mustafa Kemal Atatürk\",\"Rusya\",\"Leonardo da Vinci\"]\n",
        "\n",
        "while True:\n",
        "    a = input(\"Teste başlamak için Enter'a basın\")\n",
        "\n",
        "    puan = 0\n",
        "    i = 0\n",
        "    \n",
        "    while(len(sorular)>i):\n",
        "        print(str(i+1)+\".Soru \\n\" + sorular[i])\n",
        "        cevap = input(\"Cevabınız:\")\n",
        "        if(cevap == cevaplar[i]):\n",
        "            print(\"Tebrikler Doğru bildiniz!\")\n",
        "            puan+=20\n",
        "        else:\n",
        "            print(\"Yanlış Cevap!\")\n",
        "        i+=1\n",
        "    if(puan == 0):\n",
        "        print(\"\\nDoğru cevabınız yok!\\n Puanınız:0\")\n",
        "        print(\"Üzgünüm testi geçemediniz!\")\n",
        "        print(\"Tekrar deneyiniz!\\n\")\n",
        "    elif(puan == 20):\n",
        "        print(\"\\n1 Doğrunuz,4 Yanlışınız var.\\n Puanınız:20\")\n",
        "        print(\"Üzgünüm testi geçemediniz!\")\n",
        "        print(\"Tekrar deneyiniz!\\n\")\n",
        "    elif(puan == 40):\n",
        "        print(\"\\n2 Doğrunuz, 3 Yanlışınız var.\\nPuan:40\")\n",
        "        print(\"Üzgünüm testi geçemediniz!\")\n",
        "        print(\"Tekrar deneyiniz!\\n\")\n",
        "    elif(puan == 60):\n",
        "        print(\"\\n3 Doğrunuz, 2 Yanlışınız var.\\nPuan:60\")\n",
        "        print(\"Tebrikler testi geçtiniz!\")\n",
        "        break\n",
        "    elif(puan == 80):\n",
        "        print(\"\\n4 Doğrunuz, 1 yanlışnız var.\\nPuan:80\")\n",
        "        print(\"Tebrikler testi geçtiniz!\")\n",
        "        break\n",
        "    else:\n",
        "        print(\"Tebrikler Yanlışnız yok!\")\n",
        "        print(\"Testi başarıyla geçtiniz!\")\n",
        "        break"
      ],
      "metadata": {
        "colab": {
          "base_uri": "https://localhost:8080/"
        },
        "id": "Eb2EJuquYAgZ",
        "outputId": "7fe5acfd-6471-4f4b-b1ab-e478ad44a7eb"
      },
      "execution_count": 3,
      "outputs": [
        {
          "output_type": "stream",
          "name": "stdout",
          "text": [
            "BİLGİ PROGRAMIMIZA HOŞ GELDİNİZ!\n",
            "Her bir soru bir puan değerindedir ve toplam 5 adet soru bulunmaktadır.\n",
            "Teste başlamak için enter tuşuna basınız.\n",
            "Teste başlamak için Enter'a basın\n",
            "1.Soru \n",
            "Bu programı kim sunuyor?\n",
            "Cevabınız:yaren\n",
            "Yanlış Cevap!\n",
            "2.Soru \n",
            "Apple'ın kurucusu kimdir\n",
            "Cevabınız:steve jobs\n",
            "Yanlış Cevap!\n",
            "3.Soru \n",
            "Türkiye Cumhuriyetinin ilk Cumhurbaşkanı kimdir?\n",
            "Cevabınız:Mustafa Kemal Atatürk\n",
            "Tebrikler Doğru bildiniz!\n",
            "4.Soru \n",
            "Yüzölçümü bakımından dünyanın en büyük ülkesi hangisidir?\n",
            "Cevabınız:Rusya\n",
            "Tebrikler Doğru bildiniz!\n",
            "5.Soru \n",
            "Mona Lisa tablosu kimin eseridir?\n",
            "Cevabınız:Leonardo da Vinci\n",
            "Tebrikler Doğru bildiniz!\n",
            "\n",
            "3 Doğrunuz, 2 Yanlışınız var.\n",
            "Puan:60\n",
            "Tebrikler testi geçtiniz!\n"
          ]
        }
      ]
    }
  ]
}