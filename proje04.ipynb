{
  "nbformat": 4,
  "nbformat_minor": 0,
  "metadata": {
    "colab": {
      "name": "proje04.ipynb",
      "provenance": [],
      "mount_file_id": "13oYfSVgR5IW_EslC0qKKTrNVwkk9FaDd",
      "authorship_tag": "ABX9TyOaUdqnCd8B2O8PXu9eTD01",
      "include_colab_link": true
    },
    "kernelspec": {
      "name": "python3",
      "display_name": "Python 3"
    },
    "language_info": {
      "name": "python"
    }
  },
  "cells": [
    {
      "cell_type": "markdown",
      "metadata": {
        "id": "view-in-github",
        "colab_type": "text"
      },
      "source": [
        "<a href=\"https://colab.research.google.com/github/yarenyucel/hu-bby162-2022/blob/main/proje04.ipynb\" target=\"_parent\"><img src=\"https://colab.research.google.com/assets/colab-badge.svg\" alt=\"Open In Colab\"/></a>"
      ]
    },
    {
      "cell_type": "code",
      "execution_count": null,
      "metadata": {
        "id": "ZwDAcQhiMI8K",
        "colab": {
          "base_uri": "https://localhost:8080/"
        },
        "outputId": "bb8581ee-02fd-4f66-d569-1975a2de428a"
      },
      "outputs": [
        {
          "output_type": "stream",
          "name": "stdout",
          "text": [
            "Drive already mounted at /content/drive; to attempt to forcibly remount, call drive.mount(\"/content/drive\", force_remount=True).\n",
            "Merhabalar, lütfen isminizi giriniz.yaren\n",
            "Kataloğumuza hoş geldiniz yaren\n",
            "Lütfen aradığınız kitabın künye bilgilerininden birini giriniz.kemal\n",
            "Aradığınız yazara dair üç kitap bulduk eğer aradığınız kitap üçünden biri değilse klavyeden '0'a basınız.\n",
            "[1] Aylak Adam&Yusuf Atılgan&Can Yayınları&1959\n",
            "[2] Anayurt Oteli&Yusuf Atılgan&Can yayınları&1973\n",
            "[3] Lüzumsuz Adam&Sait Faik Abasıyanık&Türkiye İş Bankası Kültür Yayınları&1948\n",
            "[0] PROGRAMDAN ÇIK!\n"
          ]
        }
      ],
      "source": [
        "from google.colab import drive\n",
        "drive.mount('/content/drive')\n",
        "\n",
        "isim = input(\"Merhabalar, lütfen isminizi giriniz.\")\n",
        "print(\"Kataloğumuza hoş geldiniz \" + isim)\n",
        "yazar = input(\"Lütfen aradığınız kitabın künye bilgilerininden birini giriniz.\")\n",
        "print(\"Aradığınız yazara dair üç kitap bulduk eğer aradığınız kitap üçünden biri değilse klavyeden '0'a basınız.\")\n",
        "def katalog():\n",
        "  print(\"[1] Aylak Adam&Yusuf Atılgan&Can Yayınları&1959\")\n",
        "  print(\"[2] Anayurt Oteli&Yusuf Atılgan&Can yayınları&1973\")\n",
        "  print(\"[3] Lüzumsuz Adam&Sait Faik Abasıyanık&Türkiye İş Bankası Kültür Yayınları&1948\")\n",
        "  print(\"[0] PROGRAMDAN ÇIK!\")\n",
        "  \n",
        "katalog()\n",
        "kitap = int(input(\"SEÇENEĞİNİZİ GİRİNİZ!\"))\n",
        "\n",
        "while kitap != 0:\n",
        "  if kitap == 1:\n",
        "    print(\"Aylak Adam&Yusuf Atılgan&Can Yayınları&1959\")\n",
        "    \n",
        "  elif kitap == 2:\n",
        "    print(\"Anayurt Oteli&Yusuf Atılgan&Can yayınları&1973\")\n",
        "\n",
        "  if kitap == 3:\n",
        "    print(\"Lüzumsuz Adam&Sait Faik Abasıyanık&Türkiye İş Bankası Kültür Yayınları&1948\")\n",
        "    \n",
        "  else:print(\"ARADIĞINIZ KİTAP BULUNAMADI!\")\n",
        "\n",
        "  print()\n",
        "  katalog()\n",
        "  kitap = int(input(\"SEÇENEĞİNİZİ GİRİNİZ!\"))\n",
        "\n"
      ]
    },
    {
      "cell_type": "code",
      "source": [
        "from google.colab import drive\n",
        "drive.mount('/content/drive')"
      ],
      "metadata": {
        "colab": {
          "base_uri": "https://localhost:8080/"
        },
        "id": "pNesKVNCVUCh",
        "outputId": "3a91a47c-316a-4a71-ae05-9f08c2414783"
      },
      "execution_count": 1,
      "outputs": [
        {
          "output_type": "stream",
          "name": "stdout",
          "text": [
            "Mounted at /content/drive\n"
          ]
        }
      ]
    }
  ]
}