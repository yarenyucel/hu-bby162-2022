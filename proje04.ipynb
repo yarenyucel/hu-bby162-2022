{
  "nbformat": 4,
  "nbformat_minor": 0,
  "metadata": {
    "colab": {
      "name": "proje04.ipynb ",
      "provenance": [],
      "authorship_tag": "ABX9TyO9ulGQtZB3icHCcsiGSBgc",
      "include_colab_link": true
    },
    "kernelspec": {
      "name": "python3",
      "display_name": "Python 3"
    },
    "language_info": {
      "name": "python"
    }
  },
  "cells": [
    {
      "cell_type": "markdown",
      "metadata": {
        "id": "view-in-github",
        "colab_type": "text"
      },
      "source": [
        "<a href=\"https://colab.research.google.com/github/yarenyucel/hu-bby162-2022/blob/main/proje04.ipynb\" target=\"_parent\"><img src=\"https://colab.research.google.com/assets/colab-badge.svg\" alt=\"Open In Colab\"/></a>"
      ]
    },
    {
      "cell_type": "code",
      "execution_count": null,
      "metadata": {
        "colab": {
          "base_uri": "https://localhost:8080/"
        },
        "id": "ZwDAcQhiMI8K",
        "outputId": "5485cd94-d598-42be-e355-66945165ced7"
      },
      "outputs": [
        {
          "output_type": "stream",
          "name": "stdout",
          "text": [
            "Merhabalar, lütfen isminizi giriniz.yaren\n",
            "Kataloğumuza hoş geldiniz yaren\n",
            "Lütfen aradığınız kitabın yazarının adını giriniz.kemal tahir\n",
            "Aradığınız yazara dair iki kitap bulduk eğer aradığınız kitap ikisinden biri değilse klavyeden '0'a basınız.\n",
            "[1] kitap 1\n",
            "[2] kitap 2\n",
            "[0] PROGRAMDAN ÇIK!\n"
          ]
        }
      ],
      "source": [
        "isim = input(\"Merhabalar, lütfen isminizi giriniz.\")\n",
        "print(\"Kataloğumuza hoş geldiniz \" + isim)\n",
        "yazar = input(\"Lütfen aradığınız kitabın yazarının adını giriniz.\")\n",
        "print(\"Aradığınız yazara dair iki kitap bulduk eğer aradığınız kitap ikisinden biri değilse klavyeden '0'a basınız.\")\n",
        "def katalog():\n",
        "  print(\"[1] kitap 1\")\n",
        "  print(\"[2] kitap 2\")\n",
        "  print(\"[0] PROGRAMDAN ÇIK!\")\n",
        "  \n",
        "katalog()\n",
        "kitap = int(input(\"SEÇENEĞİNİZİ GİRİNİZ!\"))\n",
        "\n",
        "while kitap != 0:\n",
        "  if kitap == 1:\n",
        "    print(\"Kitap adı,Yazar adı,Basım yılı,Yayınevi\")\n",
        "    \n",
        "  elif kitap == 2:\n",
        "    print(\"Kitap adı,Yazar adı,Basım yılı,Yayınevi\")\n",
        "    \n",
        "  else:print(\"ARADIĞINIZ KİTAP BULUNAMADI!\")\n",
        "\n",
        "  print()\n",
        "  katalog()\n",
        "  kitap = int(input(\"SEÇENEĞİNİZİ GİRİNİZ!\"))\n"
      ]
    }
  ]
}